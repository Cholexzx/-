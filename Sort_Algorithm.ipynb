{
 "cells": [
  {
   "cell_type": "raw",
   "metadata": {},
   "source": [
    "快速排序的各种版本"
   ]
  },
  {
   "cell_type": "code",
   "execution_count": 3,
   "metadata": {},
   "outputs": [],
   "source": [
    "import numpy as np\n",
    "import sys"
   ]
  },
  {
   "cell_type": "code",
   "execution_count": 2,
   "metadata": {},
   "outputs": [],
   "source": [
    "def quick_sort(L):\n",
    "    return q_sort(L,0,len(L)-1)\n",
    "\n",
    "def q_sort(L,left,right):\n",
    "    if left < right:\n",
    "        pivot = partition(L,left,right)\n",
    "        q_sort(L,left,pivot-1)\n",
    "        q_sort(L,pivot+1,right)\n",
    "    return L\n",
    "\n",
    "def partition(L,left,right):\n",
    "    pivotkey = L[left]\n",
    "    \n",
    "    while left < right:\n",
    "        while left < right and L[right] >= pivotkey:\n",
    "            right -= 1\n",
    "        L[left] = L[right]\n",
    "        while left < right and L[left] <= pivotkey:\n",
    "            left += 1\n",
    "        L[right] = L[left]\n",
    "        \n",
    "    L[left] = pivotkey\n",
    "    return left"
   ]
  },
  {
   "cell_type": "code",
   "execution_count": 3,
   "metadata": {},
   "outputs": [
    {
     "name": "stdout",
     "output_type": "stream",
     "text": [
      "[1, 1, 2, 3, 4, 5, 6, 7, 9]\n",
      "CPU times: user 181 µs, sys: 64 µs, total: 245 µs\n",
      "Wall time: 222 µs\n"
     ]
    }
   ],
   "source": [
    "L = [1,2,4,3,1,7,5,6,9]\n",
    "%time print(quick_sort(L))"
   ]
  },
  {
   "cell_type": "raw",
   "metadata": {},
   "source": [
    "阶乘"
   ]
  },
  {
   "cell_type": "code",
   "execution_count": 4,
   "metadata": {},
   "outputs": [
    {
     "name": "stdout",
     "output_type": "stream",
     "text": [
      "24\n"
     ]
    }
   ],
   "source": [
    "def factorial(x):\n",
    "    if x <= 1:\n",
    "        return True\n",
    "    else:\n",
    "        return x * factorial(x-1)\n",
    "print(factorial(4))"
   ]
  },
  {
   "cell_type": "code",
   "execution_count": 5,
   "metadata": {},
   "outputs": [],
   "source": [
    "def quick_sort(L):\n",
    "    return q_sort(L,0,len(L)-1)\n",
    "\n",
    "def q_sort(L,left,right):\n",
    "    if left<right:\n",
    "        pivot = partition(L,left,right)\n",
    "        q_sort(L,left,pivot-1)\n",
    "        q_sort(L,pivot+1,right)\n",
    "    return L\n",
    "\n",
    "def partition(L,left,right):\n",
    "    pivotkey = L[right]\n",
    "    i = left - 1\n",
    "    for j in range(left, right):\n",
    "        if L[j] <= pivotkey:\n",
    "            i += 1\n",
    "            temp = L[i]\n",
    "            L[i] = L[j]\n",
    "            L[j] = temp\n",
    "    exc = L[i+1]\n",
    "    L[i+1] = L[right]\n",
    "    L[right] = exc\n",
    "    return i+1"
   ]
  },
  {
   "cell_type": "code",
   "execution_count": 6,
   "metadata": {},
   "outputs": [
    {
     "name": "stdout",
     "output_type": "stream",
     "text": [
      "[1, 1, 2, 3, 4, 5, 6, 7, 9]\n",
      "CPU times: user 78 µs, sys: 38 µs, total: 116 µs\n",
      "Wall time: 89.9 µs\n"
     ]
    }
   ],
   "source": [
    "L = [1,2,4,3,1,7,5,6,9]\n",
    "%time print(quick_sort(L))"
   ]
  },
  {
   "cell_type": "code",
   "execution_count": 7,
   "metadata": {},
   "outputs": [
    {
     "name": "stdout",
     "output_type": "stream",
     "text": [
      "2\n"
     ]
    }
   ],
   "source": [
    "r = np.random.randint(0,4,1)\n",
    "print(r.item())"
   ]
  },
  {
   "cell_type": "code",
   "execution_count": 8,
   "metadata": {},
   "outputs": [],
   "source": [
    "def random_quick_sort(L):\n",
    "    return random_q_sort(L,0,len(L)-1)\n",
    "\n",
    "def random_q_sort(L,left,right):\n",
    "    if left<right:\n",
    "        pivot = random_partition(L,left,right)\n",
    "        random_q_sort(L,left,pivot-1)\n",
    "        random_q_sort(L,pivot+1,right)\n",
    "    return L\n",
    "def random_partition(L,left,right):\n",
    "    r = np.random.randint(left,right+1,1)\n",
    "    temp = L[right]\n",
    "    L[right] = L[r.item()]\n",
    "    L[r.item()] = temp\n",
    "    return partition(L,left,right)\n",
    "def partition(L,left,right):\n",
    "    pivotkey = L[right]\n",
    "    i = left - 1\n",
    "    for j in range(left, right):\n",
    "        if L[j] <= pivotkey:\n",
    "            i += 1\n",
    "            temp = L[i]\n",
    "            L[i] = L[j]\n",
    "            L[j] = temp\n",
    "    exc = L[i+1]\n",
    "    L[i+1] = L[right]\n",
    "    L[right] = exc\n",
    "    return i+1"
   ]
  },
  {
   "cell_type": "code",
   "execution_count": 9,
   "metadata": {},
   "outputs": [
    {
     "name": "stdout",
     "output_type": "stream",
     "text": [
      "[1, 1, 2, 3, 4, 5, 6, 7, 9]\n",
      "CPU times: user 471 µs, sys: 184 µs, total: 655 µs\n",
      "Wall time: 508 µs\n"
     ]
    }
   ],
   "source": [
    "L = [1,2,4,3,1,7,5,6,9]\n",
    "%time print(random_quick_sort(L))"
   ]
  },
  {
   "cell_type": "raw",
   "metadata": {},
   "source": [
    "归并排序"
   ]
  },
  {
   "cell_type": "code",
   "execution_count": 10,
   "metadata": {},
   "outputs": [],
   "source": [
    "class Solution:\n",
    "    def sortList(self, head):\n",
    "        if not head or not head.next: return head # termination.\n",
    "        # cut the LinkedList at the mid index.\n",
    "        slow, fast = head, head.next\n",
    "        while fast and fast.next:\n",
    "            fast, slow = fast.next.next, slow.next\n",
    "        mid, slow.next = slow.next, None # save and cut.\n",
    "        # recursive for cutting.\n",
    "        left, right = self.sortList(head), self.sortList(mid)\n",
    "        # merge `left` and `right` linked list and return it.\n",
    "        h = res = ListNode(0)#哑节点\n",
    "        while left and right:\n",
    "            if left.val < right.val: h.next, left = left, left.next\n",
    "            else: h.next, right = right, right.next\n",
    "            h = h.next\n",
    "        h.next = left if left else right\n",
    "        return res.next"
   ]
  },
  {
   "cell_type": "code",
   "execution_count": 11,
   "metadata": {},
   "outputs": [
    {
     "name": "stdout",
     "output_type": "stream",
     "text": [
      "[2, 3, 4, 5, 6, 8, 10]\n"
     ]
    }
   ],
   "source": [
    "def merge_sort(lists):\n",
    "    '''\n",
    "    递归进行归并排序。\n",
    "    '''\n",
    "    # 递归结束条件\n",
    "    if len(lists) <= 1:\n",
    "        return lists\n",
    "    \n",
    "    # 分治进行递归\n",
    "    middle = len(lists)//2\n",
    "    left = merge_sort(lists[:middle])\n",
    "    right = merge_sort(lists[middle:])\n",
    "    \n",
    "    # 将两个有序数组进行合并\n",
    "    result = []\n",
    "    i = j = 0\n",
    "    while i < len(left) and j < len(right):\n",
    "        # 将较小值放入到result中\n",
    "        if left[i] < right[j]:\n",
    "            result.append(left[i])\n",
    "            i += 1\n",
    "        else:\n",
    "            result.append(right[j])\n",
    "            j += 1\n",
    "    \n",
    "    # 将未被扫描到的直接追加到result后面\n",
    "    if i == len(left):\n",
    "        result.extend(right[j:])\n",
    "    else:\n",
    "        result.extend(left[i:])\n",
    "    \n",
    "    return result\n",
    "    \n",
    "if __name__ == '__main__':\n",
    "    a = [2, 6, 10, 3, 5, 8, 4]\n",
    "    print(merge_sort(a))\n"
   ]
  },
  {
   "cell_type": "code",
   "execution_count": 12,
   "metadata": {},
   "outputs": [],
   "source": [
    "def fac(x):\n",
    "    if x<=1:\n",
    "        return x\n",
    "    while x!=1:\n",
    "        result = x * fac(x-1)\n",
    "        x = x - 1\n",
    "        return result"
   ]
  },
  {
   "cell_type": "code",
   "execution_count": 13,
   "metadata": {},
   "outputs": [
    {
     "name": "stdout",
     "output_type": "stream",
     "text": [
      "720\n"
     ]
    }
   ],
   "source": [
    "print(fac(6))"
   ]
  },
  {
   "cell_type": "raw",
   "metadata": {},
   "source": [
    " 插入排序"
   ]
  },
  {
   "cell_type": "code",
   "execution_count": 14,
   "metadata": {},
   "outputs": [
    {
     "name": "stdout",
     "output_type": "stream",
     "text": [
      "3.0\n"
     ]
    }
   ],
   "source": [
    "z = np.zeros((1,3))\n",
    "z[0][2] = 3\n",
    "print(z[0][2])"
   ]
  },
  {
   "cell_type": "code",
   "execution_count": 32,
   "metadata": {},
   "outputs": [],
   "source": [
    "def insert_sort(L):\n",
    "    for j in range(1,len(L)):\n",
    "        key = L[j]\n",
    "        i = j - 1\n",
    "        while i >= 0 and L[i] > key:\n",
    "            L[i+1] = L[i]\n",
    "            i = i - 1\n",
    "        L[i+1] = key\n",
    "    return L"
   ]
  },
  {
   "cell_type": "code",
   "execution_count": 33,
   "metadata": {},
   "outputs": [
    {
     "name": "stdout",
     "output_type": "stream",
     "text": [
      "[4, 5, 6, 7, 8, 9, 10]\n",
      "CPU times: user 195 µs, sys: 152 µs, total: 347 µs\n",
      "Wall time: 266 µs\n"
     ]
    }
   ],
   "source": [
    "if __name__ == '__main__':\n",
    "    L = [8, 6, 7, 9, 5, 4, 10]\n",
    "    %time print(insert_sort(L))"
   ]
  },
  {
   "cell_type": "raw",
   "metadata": {},
   "source": [
    "寻找最大连续子数组"
   ]
  },
  {
   "cell_type": "code",
   "execution_count": 71,
   "metadata": {},
   "outputs": [],
   "source": [
    "def find_max_crossing_subarray(A, low, mid, high):\n",
    "    left_sum = -9999\n",
    "    sum = 0\n",
    "    max_left = 0\n",
    "    max_right = 0\n",
    "    for i in range(mid, low-1, -1):\n",
    "        sum = sum + A[i]\n",
    "        if sum > left_sum:\n",
    "            left_sum = sum\n",
    "            max_left = i\n",
    "    right_sum = -9999\n",
    "    sum = 0\n",
    "    for j in range(mid + 1, high):\n",
    "        sum = sum + A[j]\n",
    "        if sum > right_sum:\n",
    "            right_sum = sum\n",
    "            max_right = j\n",
    "    return(max_left, max_right,left_sum + right_sum)"
   ]
  },
  {
   "cell_type": "code",
   "execution_count": 72,
   "metadata": {},
   "outputs": [],
   "source": [
    "def find_maximum_subarray(A, low, high):\n",
    "    if high == low:\n",
    "        return (low, high, A[low])\n",
    "    else:\n",
    "        mid = int(np.floor((low + high)/2.0))\n",
    "        left_low, left_high, left_sum = find_maximum_subarray(A, low, mid)\n",
    "        right_low, right_high, right_sum = find_maximum_subarray(A, mid + 1, high)\n",
    "        cross_low, cross_high, cross_sum = find_max_crossing_subarray(A, low, mid, high)\n",
    "        if left_sum >= right_sum and left_sum >= cross_sum:\n",
    "            return(left_low, left_high, left_sum)\n",
    "        elif right_sum >= left_sum and right_sum >= cross_sum:\n",
    "            return(right_low, right_high, right_sum)\n",
    "        else:\n",
    "            return(cross_low, cross_high, cross_sum)"
   ]
  },
  {
   "cell_type": "code",
   "execution_count": 75,
   "metadata": {},
   "outputs": [
    {
     "name": "stdout",
     "output_type": "stream",
     "text": [
      "(7, 10, 43)\n"
     ]
    }
   ],
   "source": [
    "if __name__ == ('__main__'):\n",
    "    A = [13,-3,-25,20,-3,-16,-23,18,20,-7,12,-5,-22,15,-4,7]\n",
    "    print(find_maximum_subarray(A, 0, len(A)-1))"
   ]
  },
  {
   "cell_type": "raw",
   "metadata": {},
   "source": [
    "随机算法"
   ]
  },
  {
   "cell_type": "code",
   "execution_count": 7,
   "metadata": {},
   "outputs": [],
   "source": [
    "def permute_by_sorting(A):\n",
    "    n = len(A)\n",
    "    #B = np.linspace(0,len(A),len(A),endpoint=False)\n",
    "    B = []\n",
    "    for i in range(n):\n",
    "        C = {}#每次都生成一个字典，最后我们根据字典值来进行排序，应用lambda函数\n",
    "        x = np.random.randint(0,n**3)\n",
    "        C['priority'] = x\n",
    "        C['key'] = A[i]\n",
    "        B.append(C)\n",
    "    #C = dict(zip(np.linspace(0,len(B),len(B),endpoint=False),B))\n",
    "    a = sorted(B,key=lambda x:x['priority'],reverse=True)\n",
    "    M = []\n",
    "    for x in a:\n",
    "        M.append(x['key'])\n",
    "    return M"
   ]
  },
  {
   "cell_type": "code",
   "execution_count": 8,
   "metadata": {
    "scrolled": true
   },
   "outputs": [
    {
     "name": "stdout",
     "output_type": "stream",
     "text": [
      "[5, 10, 0, 4, 6, 2, 1]\n"
     ]
    }
   ],
   "source": [
    "A = [2,1,4,5,6,0,10]\n",
    "print(permute_by_sorting(A))"
   ]
  },
  {
   "cell_type": "code",
   "execution_count": 9,
   "metadata": {},
   "outputs": [
    {
     "name": "stdout",
     "output_type": "stream",
     "text": [
      "[{'priority': 16, 'key': 1}, {'priority': 204, 'key': 2}, {'priority': 33, 'key': 4}, {'priority': 99, 'key': 3}, {'priority': 210, 'key': 5}, {'priority': 173, 'key': 9}]\n",
      "[{'priority': 16, 'key': 1}, {'priority': 33, 'key': 4}, {'priority': 99, 'key': 3}, {'priority': 173, 'key': 9}, {'priority': 204, 'key': 2}, {'priority': 210, 'key': 5}]\n"
     ]
    }
   ],
   "source": [
    "A = [1,2,4,3,5,9]\n",
    "# B = np.linspace(0,len(A),len(A),endpoint=False)\n",
    "# C = dict(zip(A,B))\n",
    "B = []\n",
    "for i in range(len(A)):\n",
    "    C = {}\n",
    "    x = np.random.randint(0,len(A)**3)\n",
    "    C['priority'] = x\n",
    "    C['key'] = A[i]\n",
    "    B.append(C)\n",
    "print(B)\n",
    "print(sorted(B,key=lambda x:x['priority']))"
   ]
  },
  {
   "cell_type": "code",
   "execution_count": null,
   "metadata": {},
   "outputs": [],
   "source": [
    "n=int(input())\n",
    "line=[]\n",
    "for i in range(n):\n",
    "    line.append(map(int,input().split(\" \")))\n",
    "print(line)\n",
    "# \tline[i]=input().split(\" \")\n",
    "# \tprint(line)"
   ]
  },
  {
   "cell_type": "code",
   "execution_count": null,
   "metadata": {},
   "outputs": [],
   "source": [
    "nums = int(input())\n",
    "mat = [[0 for _ in range(n)] for _ in range(n)]\n",
    "for i in range(0, nums):\n",
    "    for j in range(0, nums):\n",
    "        read_list = list(map(int, input().split(\" \")))\n",
    "        # read_list = [int(i) for i in input().split()]\n",
    "        mat[i][j] = read_list[0]\n",
    "print(mat)"
   ]
  },
  {
   "cell_type": "code",
   "execution_count": 40,
   "metadata": {},
   "outputs": [
    {
     "name": "stdout",
     "output_type": "stream",
     "text": [
      "[[0, 0, 0], [0, 0, 0], [0, 0, 0]]\n"
     ]
    }
   ],
   "source": [
    "mat = [[0 for _ in range(n)] for _ in range(n)]\n",
    "print(mat)"
   ]
  },
  {
   "cell_type": "code",
   "execution_count": 47,
   "metadata": {},
   "outputs": [
    {
     "name": "stdout",
     "output_type": "stream",
     "text": [
      "\n"
     ]
    }
   ],
   "source": [
    "x = sys.stdin.readline().strip('\\n')\n",
    "print(x)"
   ]
  },
  {
   "cell_type": "raw",
   "metadata": {},
   "source": [
    "图算法"
   ]
  },
  {
   "cell_type": "code",
   "execution_count": 1,
   "metadata": {},
   "outputs": [],
   "source": [
    "class Vertex:\n",
    "    def __init__(self,key):\n",
    "        self.id = key\n",
    "        self.connectedTo = {}\n",
    "\n",
    "    def addNeighbor(self,nbr,weight=0):\n",
    "        self.connectedTo[nbr] = weight\n",
    "\n",
    "    def __str__(self):\n",
    "        return str(self.id) + ' connectedTo: ' + str([x.id for x in self.connectedTo])\n",
    "\n",
    "    def getConnections(self):\n",
    "        return self.connectedTo.keys()\n",
    "\n",
    "    def getId(self):\n",
    "        return self.id\n",
    "\n",
    "    def getWeight(self,nbr):\n",
    "        return self.connectedTo[nbr]"
   ]
  },
  {
   "cell_type": "code",
   "execution_count": 2,
   "metadata": {},
   "outputs": [],
   "source": [
    "class Graph:\n",
    "    def __init__(self):\n",
    "        self.vertList = {}\n",
    "        self.numVertices = 0\n",
    "\n",
    "    def addVertex(self,key):\n",
    "        self.numVertices = self.numVertices + 1\n",
    "        newVertex = Vertex(key)\n",
    "        self.vertList[key] = newVertex\n",
    "        return newVertex\n",
    "\n",
    "    def getVertex(self,n):\n",
    "        if n in self.vertList:\n",
    "            return self.vertList[n]\n",
    "        else:\n",
    "            return None\n",
    "\n",
    "    def __contains__(self,n):\n",
    "        return n in self.vertList\n",
    "\n",
    "    def addEdge(self,f,t,cost=0):\n",
    "        if f not in self.vertList:\n",
    "            nv = self.addVertex(f)\n",
    "        if t not in self.vertList:\n",
    "            nv = self.addVertex(t)\n",
    "        self.vertList[f].addNeighbor(self.vertList[t], cost)\n",
    "\n",
    "    def getVertices(self):\n",
    "        return self.vertList.keys()\n",
    "\n",
    "    def __iter__(self):\n",
    "        return iter(self.vertList.values())\n"
   ]
  },
  {
   "cell_type": "code",
   "execution_count": 3,
   "metadata": {},
   "outputs": [
    {
     "name": "stdout",
     "output_type": "stream",
     "text": [
      "( 0 , 1 )\n",
      "( 0 , 5 )\n",
      "( 1 , 2 )\n",
      "( 2 , 3 )\n",
      "( 3 , 4 )\n",
      "( 3 , 5 )\n",
      "( 4 , 0 )\n",
      "( 5 , 4 )\n",
      "( 5 , 2 )\n"
     ]
    }
   ],
   "source": [
    "g = Graph()\n",
    "for i in range(6):\n",
    "    g.addVertex(i)\n",
    "g.addEdge(0,1,5)\n",
    "g.addEdge(0,5,2)\n",
    "g.addEdge(1,2,4)\n",
    "g.addEdge(2,3,9)\n",
    "g.addEdge(3,4,7)\n",
    "g.addEdge(3,5,3)\n",
    "g.addEdge(4,0,1)\n",
    "g.addEdge(5,4,8)\n",
    "g.addEdge(5,2,1)\n",
    "g.vertList\n",
    "for v in g:\n",
    "    for w in v.getConnections():\n",
    "        print(\"( %s , %s )\" % (v.getId(), w.getId()))"
   ]
  },
  {
   "cell_type": "raw",
   "metadata": {},
   "source": [
    "BFS"
   ]
  },
  {
   "cell_type": "code",
   "execution_count": 8,
   "metadata": {},
   "outputs": [],
   "source": [
    "from pythonds.graphs import Graph, Vertex\n",
    "from pythonds.basic import Queue\n",
    "\n",
    "def bfs(g,start):\n",
    "  start.setDistance(0)\n",
    "  start.setPred(None)\n",
    "  vertQueue = Queue()\n",
    "  vertQueue.enqueue(start)\n",
    "  while (vertQueue.size() > 0):\n",
    "    currentVert = vertQueue.dequeue()\n",
    "    for nbr in currentVert.getConnections():\n",
    "      if (nbr.getColor() == 'white'):\n",
    "        nbr.setColor('gray')\n",
    "        nbr.setDistance(currentVert.getDistance() + 1)\n",
    "        nbr.setPred(currentVert)\n",
    "        vertQueue.enqueue(nbr)\n",
    "    currentVert.setColor('black')"
   ]
  },
  {
   "cell_type": "raw",
   "metadata": {},
   "source": [
    "DFS"
   ]
  },
  {
   "cell_type": "code",
   "execution_count": 1,
   "metadata": {},
   "outputs": [],
   "source": [
    "from pythonds.graphs import Graph\n",
    "class DFSGraph(Graph):\n",
    "    def __init__(self):\n",
    "        super().__init__()\n",
    "        self.time = 0\n",
    "\n",
    "    def dfs(self):\n",
    "        for aVertex in self:\n",
    "            aVertex.setColor('white')\n",
    "            aVertex.setPred(-1)\n",
    "        for aVertex in self:\n",
    "            if aVertex.getColor() == 'white':\n",
    "                self.dfsvisit(aVertex)\n",
    "\n",
    "    def dfsvisit(self,startVertex):\n",
    "        startVertex.setColor('gray')\n",
    "        self.time = self.time + 1\n",
    "        startVertex.setDiscovery(self.time)\n",
    "        for nextVertex in startVertex.getConnections():\n",
    "            if nextVertex.getColor() == 'white':\n",
    "                nextVertex.setPred(startVertex)\n",
    "                self.dfsvisit(nextVertex)\n",
    "        startVertex.setColor('black')\n",
    "        self.time = self.time + 1\n",
    "        startVertex.setFinish(self.time)"
   ]
  },
  {
   "cell_type": "raw",
   "metadata": {},
   "source": [
    "堆排序"
   ]
  },
  {
   "cell_type": "code",
   "execution_count": 6,
   "metadata": {},
   "outputs": [
    {
     "name": "stdout",
     "output_type": "stream",
     "text": [
      "[2, 10, 16, 30, 50, 60, 70, 80, 90]\n"
     ]
    }
   ],
   "source": [
    "from collections import deque\n",
    "\n",
    "\n",
    "def swap_param(L, i, j):\n",
    "    L[i], L[j] = L[j], L[i]\n",
    "    return L\n",
    "\n",
    "\n",
    "def heap_adjust(L, start, end):#维持最大堆\n",
    "    temp = L[start]\n",
    "\n",
    "    i = start\n",
    "    j = 2 * i\n",
    "\n",
    "    while j <= end:\n",
    "        if (j < end) and (L[j] < L[j + 1]):\n",
    "            j += 1\n",
    "        if temp < L[j]:\n",
    "            L[i] = L[j]\n",
    "            i = j\n",
    "            j = 2 * i\n",
    "        else:\n",
    "            break\n",
    "    L[i] = temp\n",
    "\n",
    "\n",
    "def heap_sort(L):\n",
    "    L_length = len(L) - 1\n",
    "    first_sort_count = int(np.floor(L_length / 2))\n",
    "    for i in range(first_sort_count):\n",
    "        heap_adjust(L, first_sort_count - i, L_length)\n",
    "\n",
    "    for i in range(L_length - 1):\n",
    "        L = swap_param(L, 1, L_length - i)\n",
    "        heap_adjust(L, 1, L_length - i - 1)\n",
    "\n",
    "    return [L[i] for i in range(1, len(L))]\n",
    "\n",
    "\n",
    "def main():\n",
    "    L = deque([50, 16, 30, 10, 60,  90,  2, 80, 70])\n",
    "    L.appendleft(0)\n",
    "    print(heap_sort(L))\n",
    "\n",
    "\n",
    "if __name__ == '__main__':\n",
    "    main()\n"
   ]
  },
  {
   "cell_type": "raw",
   "metadata": {},
   "source": [
    "优先队列，应用于图算法"
   ]
  },
  {
   "cell_type": "code",
   "execution_count": 12,
   "metadata": {},
   "outputs": [
    {
     "name": "stdout",
     "output_type": "stream",
     "text": [
      "90\n"
     ]
    }
   ],
   "source": [
    "def heap_extract_max(L):#选最大值\n",
    "    if len(L) - 1 < 1:\n",
    "        return -1\n",
    "    L_length = len(L) - 1\n",
    "    first_sort_count = int(np.floor(L_length / 2))\n",
    "    for i in range(first_sort_count):\n",
    "        heap_adjust(L, first_sort_count - i, L_length)\n",
    "    max = L[1]\n",
    "    L = swap_param(L, 1, L_length)\n",
    "    heap_adjust(L, 1, L_length - 1)\n",
    "    return max\n",
    "def main():\n",
    "    L = deque([50, 16, 30, 10, 60,  90,  2, 80, 70])\n",
    "    L.appendleft(0)\n",
    "    print(heap_extract_max(L))\n",
    "\n",
    "\n",
    "if __name__ == '__main__':\n",
    "    main()\n",
    "\n",
    "    "
   ]
  }
 ],
 "metadata": {
  "kernelspec": {
   "display_name": "Pytorch for Deeplearning",
   "language": "python",
   "name": "pytorch"
  },
  "language_info": {
   "codemirror_mode": {
    "name": "ipython",
    "version": 3
   },
   "file_extension": ".py",
   "mimetype": "text/x-python",
   "name": "python",
   "nbconvert_exporter": "python",
   "pygments_lexer": "ipython3",
   "version": "3.7.4"
  }
 },
 "nbformat": 4,
 "nbformat_minor": 2
}
